{
  "nbformat": 4,
  "nbformat_minor": 0,
  "metadata": {
    "colab": {
      "name": "Untitled41.ipynb",
      "provenance": [],
      "collapsed_sections": [],
      "authorship_tag": "ABX9TyOPy48yHtF0SJK4QaaPMg7O",
      "include_colab_link": true
    },
    "kernelspec": {
      "name": "python3",
      "display_name": "Python 3"
    },
    "language_info": {
      "name": "python"
    },
    "accelerator": "GPU"
  },
  "cells": [
    {
      "cell_type": "markdown",
      "metadata": {
        "id": "view-in-github",
        "colab_type": "text"
      },
      "source": [
        "<a href=\"https://colab.research.google.com/github/bitblayde/Machine-and-Deep-learning-projects/blob/main/NLP/automata/reber_language.ipynb\" target=\"_parent\"><img src=\"https://colab.research.google.com/assets/colab-badge.svg\" alt=\"Open In Colab\"/></a>"
      ]
    },
    {
      "cell_type": "markdown",
      "metadata": {
        "id": "W1s0vyaQjQf-"
      },
      "source": [
        "\n",
        "This exercise attempts to resolve the exercise 16.8 from the Hands-on ML book.\n"
      ]
    },
    {
      "cell_type": "code",
      "metadata": {
        "id": "ofgFW2PePYAR"
      },
      "source": [
        "import numpy as np\n",
        "\n",
        "reber_grammar = [ \n",
        "                 [(\"B\", 1)],\n",
        "                 [(\"T\", 2), (\"P\", 3)],\n",
        "                 [(\"S\", 2), (\"X\", 4)],\n",
        "                 [(\"T\", 3), (\"V\", 5)],\n",
        "                 [(\"X\", 3), (\"S\", 6)],\n",
        "                 [(\"P\", 4), (\"V\", 6)],\n",
        "                 [(\"E\", None)]\n",
        "]\n",
        "\n",
        "embedded_reber_grammar = [\n",
        "                    [(\"B\", 1)],\n",
        "                    [(\"T\", 2), (\"P\", 3)],  \n",
        "                    [(reber_grammar, 4)],    \n",
        "                    [(reber_grammar, 5)],\n",
        "                    [(\"T\", 6)],\n",
        "                    [(\"P\", 6)],\n",
        "                    [(\"E\", None)]\n",
        "]"
      ],
      "execution_count": 1,
      "outputs": []
    },
    {
      "cell_type": "markdown",
      "metadata": {
        "id": "f-L9onwzmpWc"
      },
      "source": [
        "![embreber.gif](data:image/gif;base64,R0lGODdhQAN4AoAAAAAAAP///ywAAAAAQAN4AgAC/oyPqcvtD6OctNqLs968+w+G4kiW5omm6sq27gvH8kzX9o3n+s73/g8MCofEovGITCqXzKbzCY1Kp9Sq9YrNarfcrvcLDovH5LL5jE6r1+y2+w2Py+f0uv2Oz+v3/L7/DxgoOEhYaHiImKi4yNjo+AgZKTlJWWl5iZmpucnZ6fkJGio6SlpqeoqaqrrK2ur6ChsrO0tba3uLm6u7y9vr+wscLDxMXGx8jJysvMzc7PwMHS09TV1tfY2drb3N3e39DR4uPk5ebn6Onq6+zt7u/g4fLz9PX29/j5+vv8/f7/8PMKDAgQQLGjyIMKHChQyJAXgIMaLEiRQrWryIMaPG/o0cO3r8CDKkyJEkS5qs2JDdyZUsW7p8CTOmzJkwU6KDaNMIzpzkHvI84vMnuKBCiRAtyu0o0iAAlnZr6nQI1KjYlFLtMfVqNatadWTtKo0r2Btfxz4Ta5ZG2bTM0LKZOJRtNLdqjq7NdlcuMrppIhrIew2w3mJ8+/qNO7hZYcM7vQlOLGwx48fUKEP+JblM1szQLF/uxXkM0dDOPH/eRToMXAYU555OlvotxrOv95p2c1hBbmW3a9uKTSZo4d3HevumBVx009EQkiM/Tti4mdzDpf+G7tB6cLuWncfSjr2VdzBKTY93BT78qvNeuFdIDwu+elTsuSxHwLm+Kvnz/k3p13LfX739R19/mPHXRYABkIbgegb6QiAWCkoXYSkNPghKhVYsxyEGGo5yIYaefEhFh9aRGEqIInKCohQcxtbiJyquqEmMT0BFHAU2djIjjZjsCEVjF/RooY+4ABmkdkSSsqSRkyB5owZQ1ujkb01uKOWVKVZZy5RNnKjlllzO4qUYZf44JplhonEmmml+t+Z0cWb4JpyNCNkcc2TWGd+cZg7oU5uC+MnnIIImiaeHgaogkSKEFhrIoV9atEGiI1x0yKOQ/iGpEhpVWuGnhWi6aR+dItGRohFyNGqp65E6KasWBPqfR4TA6moep+pk63sHWApqqoPmmsquRoE0/oFfjeoWWkjDEnuKsVIhe+lqeX70LLQW4uoptSa0xpqzkWrrH7eoisuotQJ6yym52+5B00zrYjuuuyCaCxS6K6grUrb2Zogvr+x+uyyzA5v6ryjSCqGvCOqGezAfASe8xsJMRdxBjg80jDDFMk5cBMYyiKwHyB6fYfHFwubQq78n12hyyLLusHK9L2+SMsOi8tAyIDHf/KfEOM4GBNE5hww0zj//ICSl04IroMtJV3K0V1VvrFsDVxc9dSZb11DwElah9TVWXf+4tNXA8mqwA2XTfPYlb78AtdhlrR11x3FTMjcLKE26AN55w7s31WmrRWvf+K2lcQKKq1U434fH/rATrU5wFbbWk/Mc+ZObt3CY5YAHvui1JXcuyeMlTCXc55pDvKAEguOGeiSqn9D65Xndt9jsb9UOye2rD33jXYtKNvvD5AH/iPDV/up6uK/jqKNgdmnGvCPOhzBa9KS7HeBtboWOffaMbP+Be6Oz9tfgsgOWuWrmn+/9rMSTXf/G8FO/IKDg+y6h+S0CfYGDXvu+V6L9HTB29vtf/tInQEc9MFkGZKDjJvg68C2QQndbXPkimCkMvmd3IkSg7DL2le59EISjKmGyjOdCZunIA9xpXHtYGML2MC6GF/QVDXnIPRwagoAa7OGGxJc+ImZMiC3UoRGr0CwQAPALQGQi/tiqCDEVHnFI3FOilKxoKCy+T0LGudAU7QPGQYkxT2T00PPqksZIrbGIV0iNirzIxThyao7Sa6MbSYBHH+rRVHyUYRaURDD8iGaQfgjkE+uIyES674aMFFqCCpmcJWmRipW05BYc2b9KpSB3y+tkyQoZSgCl50qkpKQp8eBIUKbyi8MzoCwV+crt/K2PkLQPfHpUOdElKJd/yggvoYjKWYoSd4m75QL1Z0NiPm1nHkyi8kCXTGXSkpkvstEuGQXNb0rzWDWbJArN6bdsnkdLddsX60DnQEyNc5rl1E8rqwVDJ9IwnfGrphT557csUnOeWOlXBf+pTWvyK5sJ3aY7/hMlTw4Ic1+k6xlBaWZQdIKqfw361O0ak08p0m03xpRoNAFZUYtelCwkOWgSNaqqgTIBJ2KpD6GUtRGTPhOcF+TYShE3Epf+EKb2m5nuFPTIfVKumSXNgHAsOMqe+vSnS20pURV11eqVc6b4cxhQt1o9oeJOqlOlqgtMItYs9fNXWgWr3XZ4Keit1WEk01w72erVxQXVrF/dK5KuqVd6HfVudzQiicqqUP5spiR87atBvXRXjgqWqxxNKgSredi6/vOkzQlsRhsLA7Rm9aHUQSzS1pVWpVbwQ58lLYM821rQ8nOvDXVsbPPF1NH+Ua6ZNS03p7hYxso2tFZNaLyO/jvHUFmWYMiNCQV5e9vhpou2goJadIM0Vn+O0rf4PCNe53Vd6f4WXZC9ZnjXh1Ltbney4wVPCosrXmzq669zBa9bdYcC1nF2syqlq3fdRlbNxre7FoWSedjrIk3aVqZ5DSJs+zvg9W71aAhOUlQXHFGdGEzAESZwU9XrAwgX78IYjqxUUnrfDuc3pyZUGYNHTOIZGBUoAn2xil1r4toWdDYEbJG5Powqu9r4xrNNXvScpluZUdQGQA6ykDNM5GN1K6Qw5qmMyxPDx0A5ylJGpoWXXFU8HpjLlN0iemN81v3OlK5kLqgfu3VW4tY3SvxtM0YP+cAdxUmcUPSvnR2c/iVVJgFIa6LpfweNzz8PdaOCzhfdHho1UIZIzYrOIKMb3eU4rzh3sryjM192aEN+cnMG3u5qkzmjUCua0nQc9bQoh80kX254DKUYq1vt6qI9Kkz3BBBzK91W+XxaxywdmTtTi6VfA/taql4upu9sbFPLms60XnY411lrZF8ZcisG8SE3be0aKzbb2l4qtyX53WH+Ntw9nHNYlcMyWBFp2AUEN7sjPdFLB63Y537jdKZ779YhVaeawVWbUk1u9kmY3UPr0EvlBDayADLhCl/vvSVL7AaiTFPV9Teb+BnwpyKUTTf9MZsrBvJwB7OLqpwrfXHQUYoDOOXLXvnIG91V/hJLCkH0jkChm91YoOvPl0RlrX5Z9vA27LnnVbr1CImecfU9vFPClnln02x1Ggl96KP23SaHeqpfEnYzi8R61jG0da4/2+dHv2yvox3otqWbkyM9+4PSjutePj3jYRW4xONe0Z3Sve5txnvezbz38VjO8BIFfOChWkrCc5nxloYkcE+9xMQhHavhXCHWJ48ipv/Plqs0dMA4yHbRQ/7zN6Z85SvGafcCVsZD8ozrNTwy1YfH6U61exYxrtbbN37vY/S85CMs/Bbjppm9572Viz9D45sd+d70/bXt6Pzns1FXV7T+Z5KvfDjMvvMhfiHhuh9f8Ic/Du5+fPnZLjEm/qvffNnvva6alTLK6H6Z6B/u/EV9B03zTdKCZM5mBz+2f4nxfwAISw23SzFDNN4GSzCXgIOxgAZ4gEPWfRFYgfwnf95nFheIgXSQYleWUx3ogR9oVvWnb/dXgnL2ggeoNis4JSg4QiIWZjPWSBgFglchggwYgBzWfNVRYecXbzZIFT84guwnhMEHLOcVgDyDhE6hhEv4BlDYRWGDhXVgMlVoa2cyhalXhBImXD6zYz1YFF4ogXPQXG2ogVG4Y05YgCejhmsoB1voX8HUhHfINDCiX19HhweHhmKIg3k4NtzFhX14IoGFS6BWXYNIiDpoiNazh+ynaxTCiHOXMHVo/oVXWIk3+EJjyH2XmEfz0ogew4l2yIaFCIMsZjMh5hwsyCepqIp3GIN2dYpyGIGvCIuyF4buIIssR0iuWHtk90PEaIYuFnxTQ4u1uIq72HyCFyxblowqs4xA04zOqHQbNn5aJY0mxWe8qIhDmDTZWG4oV1vdWFTA1H7xN00xhY278ouvt33X+AqfE2rB2HTmeI59gVrEF43xITDFCIm88YZyB21s+I/v5njoMZDriHZ/2HahCIsk2E21N3wC+ZBthXaZ+I246GYKCXwAWRznYns5VhvBZYzv8zPzyFb5Bn17YZLQopK56EB9SIIMhH28MWguGQ7Ox49AuHzEg5Gw/tGTPvkNvBeUQvk7EylIMnmU7qKU+VeQC2lHy5BnSPkU/7WUTAl72pg1PDllVekY3tWVXlkXi7VbUDll2nJrZ9mJuuSU5ieWb0WTZwSXcakcgBiTJclVZJkUeFk1LglQ+NcWR0UslJaXellw08Z3wFBCi8kQaiaZYCknDkeXWFk8gBkYKLmQr8aF+MeZaLSZzPg1WvmZpqMYiDKa5aCPsRaE3YGa6laaN1OZjJlrExVNr9klCdaa4nCbuOlreTN2NTSbg7eZvzkUb2ODbQdDnlmXiIKKc/OLx5mIUxCcOcGbaSZ+ypmT2GmdgZmV3ZkOWJSdDXGewnlJ5YlM4VkV/opTnd4pkgkkn9aQnurZcu5piUdUn9OwncSFjZbXn3PxUQFqeblyn+snlXyUoALRoPiZJoH0oP8woRC6j10HKRWKkG55SxqaDx4aYG4ooiNKoiVqoieKjHg2oLChn7IFovXwohd3gysaHTQadC1qDDEqo8XIJTq6ozPqJD76o6DoI/85pDOpdThKfTbKC0J6pEW1Ik76pERqIFI6pd5YpVZ6pRTZH1q6pSzJpMihpGTmpdtQpl/Kkrs3poV3plvRpmiaeppogWv6ZzYHGW8Kp2n6mFqBp3kap6vHFn3qp3FKp9FSqHZmentKhYeKqJoXptvyqKsWjl0hqIPKbEY6/hCVaqmXyqgAE6nWBp1p2Kmg2o48oambGoqjqjSqqnKY2g+niqpUmoSsKqO0agmwGqsaFxW4mquzMqu22qsHwavB+p7UqDOfSqxNClLpOazJWqw1KTPI6qy6QFLB6arTyqcCeDXNiq32qa34KK3deiTLGq7iug/Gaq6dVFrcmq5IUa3A2q57CY1yhGXwGq/F9F6fShzXGmyleq8fgzlDhCf8GomT+q/3ErAtZJwcJ4kHqzBN85HDCK05eJAOCzPXI7DoimMparEAO5eggYcdKzmh2iUhK7Kpo4fBUIYnyyPLmiJmBF8su6orOSL++mSIKLOXZLATh7GA6jXqeLOf/piz7TmvtGY8TAK0Dya0QxsFtwiOcJWWKMqKkkVbTEseU/u0UgV7UhuDomW1VyuKT1u0LWuzXvu1Oru0qJG04oa1Z9u0Jqus+riybquicEutMFu1dEtGeUuBssC3eku0djtd7CowYQu4rCm4RWavWei0h/uXMduLBHsrjeu4bwW5XNu2t8qxlUuff4u5lKu5Gsu5bwu5kUu45CS5o3uEibuxqmuqpfuBp+u6+wG7VzS7u8q66iC7/5q767C795q27fC7wAu68zC88dqw/nC8xCu6r7q4U0qyzluut/uTz0u9eGG911us2gs8y8u9xpu93+uf4Su+YUG+5XsW54u+/qWhvuuLle3rvgY5vfFbGfBLv8Vhv/ebHfOrvwTKv/3Lvv8LwIqRvwN8IAJswPKbwNOJwAuMvw3swPsbwZtYwBM8rhAcZRhsOBrcYRVMPxw8YB58JyL8U95bsiDsfyZ8whbMXCi8wSzMsySsPTKcS2vrgzRsSjacrS5MUMz3GirMcN3Ew3KDw3HEVEMcujAcdzQFHUAsqahVxM0TxWlkaNjhxJVWOWqKxOr6dik5xThkp038xSB0xSo7xvOTuq+7xUZ8xi+sxH8apW3cvXLsxm8MkkVKx4WTxktRxiGcx0lsxxsapH9smmtsqIaMxoSMNub5uY3syI8MyZ9bcIpM/sQ8FMmXjMmZrMnyohqUvMjSuaDZ1scEHJmIPK5U5Mk/i0GpbKg6WyoTysrl4kux/MliY6Ath6B9Q8v+gaGJSZ2mjBq9nMv5s8tFoqLkcp/FzCTHjMzMCczUyszN7D1aqcO0caD2wqyA2bNPIaAUfGTanMVJec3/cp7UvMe5IEajbKZbg5o2a830GYiuM5vnfAuM/MwXrGTzqaiuAZ7K/LDgapH96J/wjMdzCMcXY5GNY9DRWZuD3D2ZcZtKqoX0vMy+2aPaKqs4OYw3qZmkOybvemCTY52ad9B+mZwf/a0ZHZKxqSdqZ9KIidLGqdJS6IIf6345CsoxLZE8qmsu/qiN6jxrDX3RAscgVHl/lunPzxUrdbLQXFqRDWiZPguZg8XUeJeXx4lU/oPTS13V7AGXWG1BhrnVdjmLjLcwYG3TV0cYXN3VMQeBv2kiqLfWZF3W9mQsaI2ZJKmydF3XeLvSiVg6RekQfB2h0aunVhOEI6mrw0DMSS2mIDPPqfmUjH2U99wWYeedzWbZ2YVbYIzZ8AImL01OTMSP7qkkm/0tSOrZpyefoS3axwpG5mi9ju1zhRvbO4fAtF3b0crGCCjFqM3ZsN3bfTvCwB3c1qhHzQivgvlOe/I0jKTc/FtGMOmQx2rc5mtwNtrUFKlJO7uDwg3dgugzzQtNm+bd/u5IiihWzfFsu41UsbBjtOQ9gcj9e6Y4x/I2oMWr2IzbZN89jhwt2ZHDiS1quDLkepn7nb3IbB6JOgNen5X4h/y9uUYYh+Rn3/e9baBd4KbYT28ZvOhY4Ra+351Th/qJswTJF70LRwq+4BfOPGpo2icuh2z73vo8g2IIXom8a60t4ygE0gi+nzyYqu5cjgbG45u8Giruj1J4krptJSWn4Rt+jPva4+LH5BxpRVUY4x/OqSTE5Uu+ulhO2i8X5frd5WBq5tt446lKxYT24F8uyAVb43x4hBB523NC4EBOhnNO5xQIKE6Oz7BZ5v29gXze5yrYr4C+woI+6PJdd4Ye/uQbKF0iSOBUe94lVsVSk3vXbQ6UzuNKS2FOA9RyKmd+zGuZfYgULbb5Ko5VZerp1ICqc4jw7d8m2ME+1ppEnpDIBtT4rejjy06cud67HuByVeuurmL/55OJGtQ95dKnY+utF3pVaXoihDmCU+nRLu1NEp8OiF8pVY+jiOxENn9TGDp5DWfcCH/QXupkanRKp0Ky/pxSbaFl1+6g19wnR54fdbToTo82TnPuDlDC6ImOSdPs4+//HunyVaddTHDLZ/DE7kEJr/CwJX0WJ6kU34JpKdA9LT0Dr5rHZHV4/utmCsWThoZ8eS4zR5SHvWER+0nH5+5Q7HFmRt0uVcos/j9ta6PrLsJ6DV9ZKD+cqURCCVRELe/U6h4c8sXpMCrE+l5Hq3VMX5ZB+Y6l4L70AZ/x/+lM48PIWLNBnHeKqnfqTY8Pw354eqegZwb2LajyroTxpMr1DFVT6Wwei2Zf/wZwIbedXQ+1Rh9950Q7C3dxPT/1eIaWZRb4gv87cV/4Zo1q1ar2So33K85NRwr52zH5lF/5H2dvQ2pTFCdmZVTzeq9sT+rVCTf6a3lzKLNu0Mtz5Lb6rG9NYM6zXxr7V4v4tF/7pB7z1daxnyahkXT7Ed/siRb8dI9JxF/8PYdwZi8XHbr8Kehv9OZp0B/9kf/7DlVL+9y0xS+ykoZK/rGYLsZvy37GsrE0/r+EbjcfQOh/ssMPddSfhfiGnMeYrBo7+2vnVPYW2KRJAPExVaH3YZSTVntx1pt3/8FQHMmuOdH0ccT0LDEWnj/ZA+jkRfPFtXsGXGkYNB6RSeWS2XSOftEiAghiVZPYZ1CrmfZ2L6Xsy51Iy1v1mt12v+E5dJSRvg27d5XOHg/lM/pmXFb2/vCWBOfE/BodHyEjJQ8XCakENxwAM9EONictPkMTDYWkDgNEoSAqGUFfYWNlZ41a6TwxvXBcrRZTcycZ7VQrgGF4TH31iP8KbY1po6WnqUGfLU2J8KApnquTfwtJuMfDWu+EEn2umb/d3+Hj/svZkcPLsynPv3fEx7fo0aUSiKQMPV7yECZUuDCUQWHkum3LZ8vdQXz+ktUDw85EkXYm6hhkOJJkSYUO631khS2kMZH7sKiU8OUKRF0cA90KiREXSpM/gQaNhfKhkx8rAVbTeJEnPpkXXsphyYEmUaFXsWZtQ1TM0xZTHSrdBcQrKz5MaUStNRXqJata4caVK5UrWjVHw1LzSMZmMT4WtaklyHamW59zESdWnPOtPcNcITemxUNF2QhVs0TWnPfMY86LQYcODRkXHEKf41k2eymz4MGlOveULJp2bbh17TYB67pi31GsW18bQ7ib56S2kScPitsxE+K/jqf27Tfj/nTGwrk8/12dt3Lv3+ExV329WPR341c/6Q4FcKa/qMHHlz/tcO445s/XWoNz6Pv18wEMEBLU0NuIIoQKXGE/7PozjkEBIYzQEfwSpKsSBK3b7p8DZSkIPglBDPEub+p4hcTwMqRuQWVm8RA/EWGMcbgL14FlDnDOS1HFFU+JJo0XZQxSSAt1KtHGIttrMQs2WPTRGX2GjFLKtLSzj74KjdJxR92S1AupJqcMU0xSMNRywzE2xPINTMAc0803qUyoS0nUVJDLpVKLCDY4+ezzq5PqXEsdUvbM089DESUTUDMVXXJG6BhtJNJEKa0UuEU7nDS2I7qaUylLQQ21l5E8/l1T000NlOjU+0Rt1VWoVjUtUG10W2uv5k56VdddaySp1AWNInPWNXktltdhTY31z1ozs9JQY6EVFdlkB1T2smZxXcjaaLkFb1pqJd02vexKK0ncbtG17Vtw7zvXB05vNcnddOldbF123biXAUE9AWreegGWS998B77sXx3IzerggBm+quCtHjbyn41ua9hiISNmMmNnHR1kYVYvDlnEjVcEdr844/pY5JXlIblk9VSmwuO5YmbZZrFSftjlSV3O9+af4+v55UZPvgexmoFO+kiGjnKGU5l9Zk8xpJWuOhKhKc62J/04HhSVqa0OGzSspXL2V0669roGqv1gW+y3/iH2VSKD410Wax3JssFtteHu2+G9idQz7bYcozrFKlwBvGO/GfdX8ZlhnXtUe3Ze2+mBhHq88c3LJhWiTlGpKWqq+ugKK805T91opm0KI5/BCepoprNbVt12OVH/6te9xrIinLtJP4P2Z28vHiZ7axq+Ja3vQlvw042PHmfkNcEzhkKLvr4hrXKX3vvZRTPnKeyz355w6L9Pf2namr6J7H5h/a579emHXeEqv3yEm/fprN9//edHMOVBZ0Dmk9//ENgu71hvdt1zSQAllUAJxm2BFrGgAzfBP2tMkINn8tYUOpGOCRXpUkHr4AmdA8EIQoqE7bpRCU2IQhnCC0Ac/nIhizRooxnuMGvyOVGyzpFDHfKQiLTy4YMghsT5qLCIbxNitZR4jMhFMYZNtGJAPsgfjzHQQW3y4RXBGLygAekYhfpQFcOYxvKMkYxE4p0Wa6hGOUaEjZux4x25eMA57rEf8vtPdkgDISbycWVPHGEbt5iSPypnkIQMmSEPScXAWO+M3nLkJZmnLkSuLY/cgVKAGolJhkEyXJJcRUNMqUdR7pGUpbTh9UA4ERoJcpV8bKUrvYhKqHHykwIKZS3pdcu29fImIpRljyT0S2CiS5hb8U/7OoKIeSAzmcuUYzOZ1BLyuS+R24yjNdOIzWBlMlsZ6uTkZKRMcEJLnB6M/p8e6qXOdRarnYMaXlnqSbN5gjGfjlLe4QAmz33qqp80PGev/CbQgbqqoPqpni4ap9CFSkuiZnioFyI60SI2FJD2g6HYKqrRSnHUQh4tV99CKtJEkZRKdYtBRlU6Q5Zu8aQvZVxKY+qnmZbxo1tyYk5luFMjmtSYKAUqCoXKHr5A9KZHPWFSdedSAxrVqRyEajMw146rMrKqVsUpyrT6VTR29X9blRpTYUpWBJr1rO/cnFjVGiW2tpWOqYNrXDF210TW1a54LatemXpR2TzpdoD168gMa1PKrSOEhT1s/ea6nSt8aYBVS+xjIxTZnPDwspj1ZWc3u0PQenaJo3VrilBJ+z3Nak+0qfXeak+LVNdKD7Z6qm2QTDvbBeq2bbw13m0JmVvfanK4FCyu6oA7x+Qed2zL5adzmUs96Mr0oNF1Ih6xm13tbpe73fXud1NpXfGOl7zlNe950Zte9a6Xve1173vhG1/5zpe+9bXvffGbX/3ul7/99e9/ARxgAQ+YwAU28IER7N8CAAA7)\n",
        "\n",
        "Image extracted from https://www.willamette.edu/~gorr/classes/cs449/reber.html"
      ]
    },
    {
      "cell_type": "code",
      "metadata": {
        "colab": {
          "base_uri": "https://localhost:8080/"
        },
        "id": "tQMbuKyyUcFq",
        "outputId": "6798da9f-c825-4be8-f71d-a661baa28c10"
      },
      "source": [
        "def generate_reber_grammar(grammar):\n",
        "  output = []\n",
        "  state = 0\n",
        "\n",
        "  while state is not None:\n",
        "    index = np.random.randint(len(grammar[state]))\n",
        "\n",
        "    node, state = grammar[state][index]\n",
        "\n",
        "    if isinstance(node, list):\n",
        "      node = generate_reber_grammar(node)\n",
        "\n",
        "    output.append(node)\n",
        "\n",
        "  return \"\".join(output)\n",
        "\n",
        "\n",
        "np.random.seed(42)\n",
        "\n",
        "for _ in range(10):\n",
        "  print(generate_reber_grammar(embedded_reber_grammar), end=\" \")"
      ],
      "execution_count": 2,
      "outputs": [
        {
          "output_type": "stream",
          "text": [
            "BTBPTTTVPXTVPXTTVPSETE BPBPTVPSEPE BPBPVVEPE BPBPVPXVVEPE BPBTXXTTTTVVEPE BPBPVPSEPE BPBTXXVPSEPE BPBTSSSSSSSXSEPE BTBPVVETE BPBTXXVVEPE "
          ],
          "name": "stdout"
        }
      ]
    },
    {
      "cell_type": "code",
      "metadata": {
        "colab": {
          "base_uri": "https://localhost:8080/"
        },
        "id": "AoeigU8T4KbR",
        "outputId": "426fa619-4a82-4139-bfcb-bbfe20120a68"
      },
      "source": [
        "vocabulary = \"BEPSTVX\"\n",
        "def generate_non_reber_grammar(grammar, vocab):\n",
        "  reber_string = generate_reber_grammar(grammar)\n",
        "  idx = np.random.randint(len(reber_string))\n",
        "  to_change = np.random.choice( list(set(vocab) - set(reber_string[idx])) )\n",
        "  non_reber_string = reber_string[:idx] + to_change + reber_string[idx+1:]\n",
        "  return non_reber_string\n",
        "\n",
        "for _ in range(10):\n",
        "  print(generate_non_reber_grammar(embedded_reber_grammar, vocabulary), end=\" \") "
      ],
      "execution_count": 3,
      "outputs": [
        {
          "output_type": "stream",
          "text": [
            "BPSTXXVPSEPE BTBTVVETE BPBSVVEPE BXBTXSETE BPBPVPSSPE BTBPVVVETE BPBTSXSEEE BPBPTTTPTTTTTVPSEPE BTBTXXTTETVPSETE BBBTXSETE "
          ],
          "name": "stdout"
        }
      ]
    },
    {
      "cell_type": "code",
      "metadata": {
        "id": "egk8LbbpI_th"
      },
      "source": [
        "def char_to_int(gammar, vocabulary):\n",
        "  return [vocabulary.index(i) for i in gammar]"
      ],
      "execution_count": 4,
      "outputs": []
    },
    {
      "cell_type": "code",
      "metadata": {
        "id": "jF67BkQb3WmP"
      },
      "source": [
        "import tensorflow as tf\n",
        "def get_dataset(size, gammar, vocabulary):\n",
        "  reber_grammar = [ char_to_int(generate_reber_grammar(gammar), vocabulary) for i in range(size//2) ]\n",
        "  non_reber_grammar = [ char_to_int(generate_non_reber_grammar(gammar, vocabulary), vocabulary) for i in range(size - (size //2) ) ]\n",
        "\n",
        "  dataset = reber_grammar + non_reber_grammar\n",
        "\n",
        "  y = [[1.] for i in range(len(reber_grammar)) ] + [[0.] for i in range(len(non_reber_grammar)) ]\n",
        "\n",
        "  return tf.ragged.constant(dataset, ragged_rank=1), np.array(y)\n",
        "\n",
        "trainX, trainy = get_dataset(size=8000, gammar=embedded_reber_grammar, vocabulary=vocabulary)\n",
        "valX, valy = get_dataset(size=int(8000*0.3), gammar=embedded_reber_grammar, vocabulary=vocabulary)"
      ],
      "execution_count": 5,
      "outputs": []
    },
    {
      "cell_type": "code",
      "metadata": {
        "id": "NY71QRzOM2p8"
      },
      "source": [
        "from tensorflow import keras\n",
        "\n",
        "EMBEDDED_SIZE = 5\n",
        "\n",
        "input = tf.keras.Input(shape=[None], dtype=tf.int32, ragged=True)\n",
        "\n",
        "X = tf.keras.layers.Embedding(input_dim=len(vocabulary), output_dim=EMBEDDED_SIZE)(input)\n",
        "X = tf.keras.layers.GRU(units=100, activation='tanh')(X)\n",
        "output = tf.keras.layers.Dense(1, activation=\"sigmoid\")(X)\n",
        "model = keras.Model(inputs=input, outputs=output)"
      ],
      "execution_count": 6,
      "outputs": []
    },
    {
      "cell_type": "code",
      "metadata": {
        "colab": {
          "base_uri": "https://localhost:8080/"
        },
        "id": "Pt7zpFjRQrtE",
        "outputId": "46d43eca-12a6-42a5-b313-b8fd3ecca768"
      },
      "source": [
        "tf.keras.backend.clear_session()\n",
        "\n",
        "optim = keras.optimizers.SGD(learning_rate=0.02, momentum=0.99, nesterov=True) # Are IID\n",
        "model.compile(optimizer=optim, loss=\"binary_crossentropy\", metrics=[\"accuracy\"])\n",
        "model.fit(trainX, trainy, epochs=15, validation_data=(valX, valy))"
      ],
      "execution_count": 9,
      "outputs": [
        {
          "output_type": "stream",
          "text": [
            "Epoch 1/15\n"
          ],
          "name": "stdout"
        },
        {
          "output_type": "stream",
          "text": [
            "/usr/local/lib/python3.7/dist-packages/tensorflow/python/framework/indexed_slices.py:449: UserWarning: Converting sparse IndexedSlices(IndexedSlices(indices=Tensor(\"gradient_tape/model/gru/RaggedToTensor/boolean_mask_1/GatherV2:0\", shape=(None,), dtype=int32), values=Tensor(\"gradient_tape/model/gru/RaggedToTensor/boolean_mask/GatherV2:0\", shape=(None, 5), dtype=float32), dense_shape=Tensor(\"gradient_tape/model/gru/RaggedToTensor/Shape:0\", shape=(2,), dtype=int32))) to a dense Tensor of unknown shape. This may consume a large amount of memory.\n",
            "  \"shape. This may consume a large amount of memory.\" % value)\n"
          ],
          "name": "stderr"
        },
        {
          "output_type": "stream",
          "text": [
            "250/250 [==============================] - 15s 54ms/step - loss: 0.1874 - accuracy: 0.9434 - val_loss: 0.1894 - val_accuracy: 0.9450\n",
            "Epoch 2/15\n",
            "250/250 [==============================] - 13s 54ms/step - loss: 0.1704 - accuracy: 0.9477 - val_loss: 0.2124 - val_accuracy: 0.9425\n",
            "Epoch 3/15\n",
            "250/250 [==============================] - 13s 53ms/step - loss: 0.1607 - accuracy: 0.9540 - val_loss: 0.1620 - val_accuracy: 0.9550\n",
            "Epoch 4/15\n",
            "250/250 [==============================] - 14s 57ms/step - loss: 0.1471 - accuracy: 0.9574 - val_loss: 0.1271 - val_accuracy: 0.9671\n",
            "Epoch 5/15\n",
            "250/250 [==============================] - 14s 57ms/step - loss: 0.1381 - accuracy: 0.9615 - val_loss: 0.1254 - val_accuracy: 0.9679\n",
            "Epoch 6/15\n",
            "250/250 [==============================] - 14s 54ms/step - loss: 0.1367 - accuracy: 0.9631 - val_loss: 0.1134 - val_accuracy: 0.9696\n",
            "Epoch 7/15\n",
            "250/250 [==============================] - 14s 55ms/step - loss: 0.1201 - accuracy: 0.9681 - val_loss: 0.1345 - val_accuracy: 0.9692\n",
            "Epoch 8/15\n",
            "250/250 [==============================] - 14s 54ms/step - loss: 0.1152 - accuracy: 0.9711 - val_loss: 0.1051 - val_accuracy: 0.9750\n",
            "Epoch 9/15\n",
            "250/250 [==============================] - 14s 56ms/step - loss: 0.0964 - accuracy: 0.9769 - val_loss: 0.0746 - val_accuracy: 0.9842\n",
            "Epoch 10/15\n",
            "250/250 [==============================] - 14s 56ms/step - loss: 0.0731 - accuracy: 0.9844 - val_loss: 0.0491 - val_accuracy: 0.9908\n",
            "Epoch 11/15\n",
            "250/250 [==============================] - 13s 53ms/step - loss: 0.0640 - accuracy: 0.9872 - val_loss: 0.0477 - val_accuracy: 0.9908\n",
            "Epoch 12/15\n",
            "250/250 [==============================] - 13s 53ms/step - loss: 0.0445 - accuracy: 0.9914 - val_loss: 0.0267 - val_accuracy: 0.9962\n",
            "Epoch 13/15\n",
            "250/250 [==============================] - 14s 57ms/step - loss: 0.0262 - accuracy: 0.9954 - val_loss: 0.0222 - val_accuracy: 0.9962\n",
            "Epoch 14/15\n",
            "250/250 [==============================] - 14s 58ms/step - loss: 0.0325 - accuracy: 0.9940 - val_loss: 0.0216 - val_accuracy: 0.9967\n",
            "Epoch 15/15\n",
            "250/250 [==============================] - 14s 55ms/step - loss: 0.0192 - accuracy: 0.9970 - val_loss: 0.0200 - val_accuracy: 0.9967\n"
          ],
          "name": "stdout"
        },
        {
          "output_type": "execute_result",
          "data": {
            "text/plain": [
              "<tensorflow.python.keras.callbacks.History at 0x7feec004f850>"
            ]
          },
          "metadata": {
            "tags": []
          },
          "execution_count": 9
        }
      ]
    },
    {
      "cell_type": "code",
      "metadata": {
        "colab": {
          "base_uri": "https://localhost:8080/"
        },
        "id": "epmX5E5ZShB_",
        "outputId": "1c5fceda-ceca-478f-b929-00d7f0e99d07"
      },
      "source": [
        "reber_sample = [\"BTBTSSXXTVVETE\", \"BPBPVPXVPXVPXVVEPE\"]\n",
        "non_reber_sample = [\"BTBTSSPXSETE\", \"BPBPVSPSEPE\"]\n",
        "\n",
        "X_test = reber_sample + non_reber_sample\n",
        "\n",
        "X_test_encoded = tf.ragged.constant( [char_to_int(i, vocabulary) for i in X_test], ragged_rank=1)\n",
        "y_pred = model.predict(X_test_encoded)\n",
        "\n",
        "for i in range(len(y_pred)):\n",
        "    print(\"{}: {:.3f}%\".format(X_test[i], 100 * y_pred[i][0]))"
      ],
      "execution_count": 10,
      "outputs": [
        {
          "output_type": "stream",
          "text": [
            "BTBTSSXXTVVETE: 98.982%\n",
            "BPBPVPXVPXVPXVVEPE: 99.300%\n",
            "BTBTSSPXSETE: 0.075%\n",
            "BPBPVSPSEPE: 0.003%\n"
          ],
          "name": "stdout"
        }
      ]
    }
  ]
}