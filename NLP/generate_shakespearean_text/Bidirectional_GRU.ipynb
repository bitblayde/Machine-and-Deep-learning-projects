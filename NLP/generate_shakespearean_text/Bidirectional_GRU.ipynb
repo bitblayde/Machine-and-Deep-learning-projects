{
  "nbformat": 4,
  "nbformat_minor": 0,
  "metadata": {
    "colab": {
      "name": "Bidirectional_GRU.ipynb",
      "provenance": [],
      "collapsed_sections": [],
      "authorship_tag": "ABX9TyNGKonlb5ar8uwGuZRlGnBO",
      "include_colab_link": true
    },
    "kernelspec": {
      "name": "python3",
      "display_name": "Python 3"
    },
    "language_info": {
      "name": "python"
    },
    "accelerator": "GPU"
  },
  "cells": [
    {
      "cell_type": "markdown",
      "metadata": {
        "id": "view-in-github",
        "colab_type": "text"
      },
      "source": [
        "<a href=\"https://colab.research.google.com/github/bitblayde/Machine-and-Deep-learning-projects/blob/main/NLP/generate_shakespearean_text/Bidirectional_GRU.ipynb\" target=\"_parent\"><img src=\"https://colab.research.google.com/assets/colab-badge.svg\" alt=\"Open In Colab\"/></a>"
      ]
    },
    {
      "cell_type": "code",
      "metadata": {
        "colab": {
          "base_uri": "https://localhost:8080/"
        },
        "id": "qhHvtva8XX-J",
        "outputId": "f049f31d-b312-4484-8c8d-d50a8639507e"
      },
      "source": [
        "import numpy as np\n",
        "import os\n",
        "import sklearn\n",
        "import tensorflow as tf\n",
        "from tensorflow import keras\n",
        "\n",
        "url = \"https://raw.githubusercontent.com/karpathy/char-rnn/master/data/tinyshakespeare/input.txt\"\n",
        "\n",
        "file = keras.utils.get_file(\"shakespeare.txt\", url)\n",
        "\n",
        "with open(file) as f:\n",
        "  text = f.read()"
      ],
      "execution_count": 2,
      "outputs": [
        {
          "output_type": "stream",
          "text": [
            "Downloading data from https://raw.githubusercontent.com/karpathy/char-rnn/master/data/tinyshakespeare/input.txt\n",
            "1122304/1115394 [==============================] - 0s 0us/step\n"
          ],
          "name": "stdout"
        }
      ]
    },
    {
      "cell_type": "code",
      "metadata": {
        "id": "IhAQXoRSYIXg"
      },
      "source": [
        "tokenizer = keras.preprocessing.text.Tokenizer(char_level=True)\n",
        "tokenizer.fit_on_texts(text)"
      ],
      "execution_count": 3,
      "outputs": []
    },
    {
      "cell_type": "code",
      "metadata": {
        "colab": {
          "base_uri": "https://localhost:8080/"
        },
        "id": "rKgarCTgYIfn",
        "outputId": "f40e97bf-7abf-4f46-944c-187d79235799"
      },
      "source": [
        "tokenizer.texts_to_sequences([\"Hello\"])"
      ],
      "execution_count": 4,
      "outputs": [
        {
          "output_type": "execute_result",
          "data": {
            "text/plain": [
              "[[7, 2, 12, 12, 4]]"
            ]
          },
          "metadata": {
            "tags": []
          },
          "execution_count": 4
        }
      ]
    },
    {
      "cell_type": "code",
      "metadata": {
        "colab": {
          "base_uri": "https://localhost:8080/",
          "height": 37
        },
        "id": "MbJmzOp2YIkQ",
        "outputId": "6f2c6024-ce66-4571-84c2-3d47d5547316"
      },
      "source": [
        "''.join(tokenizer.sequences_to_texts([[7, 2, 12, 12, 4]]))"
      ],
      "execution_count": 5,
      "outputs": [
        {
          "output_type": "execute_result",
          "data": {
            "application/vnd.google.colaboratory.intrinsic+json": {
              "type": "string"
            },
            "text/plain": [
              "'h e l l o'"
            ]
          },
          "metadata": {
            "tags": []
          },
          "execution_count": 5
        }
      ]
    },
    {
      "cell_type": "code",
      "metadata": {
        "colab": {
          "base_uri": "https://localhost:8080/"
        },
        "id": "eHrUg-iHYIq6",
        "outputId": "2ab07b0c-5fa5-45a2-8771-fde2146f621b"
      },
      "source": [
        "n_characters = len(tokenizer.word_counts)\n",
        "n_characters, tokenizer.word_counts"
      ],
      "execution_count": 6,
      "outputs": [
        {
          "output_type": "execute_result",
          "data": {
            "text/plain": [
              "(39,\n",
              " OrderedDict([('f', 17567),\n",
              "              ('i', 57369),\n",
              "              ('r', 53758),\n",
              "              ('s', 54219),\n",
              "              ('t', 74024),\n",
              "              (' ', 169892),\n",
              "              ('c', 19443),\n",
              "              ('z', 554),\n",
              "              ('e', 100652),\n",
              "              ('n', 53608),\n",
              "              (':', 10316),\n",
              "              ('\\n', 40000),\n",
              "              ('b', 14082),\n",
              "              ('o', 71279),\n",
              "              ('w', 21115),\n",
              "              ('p', 12449),\n",
              "              ('d', 33447),\n",
              "              ('a', 63326),\n",
              "              ('y', 22166),\n",
              "              ('u', 29897),\n",
              "              ('h', 54378),\n",
              "              (',', 19846),\n",
              "              ('m', 25083),\n",
              "              ('k', 8672),\n",
              "              ('.', 7885),\n",
              "              ('l', 37215),\n",
              "              ('v', 8591),\n",
              "              ('?', 2462),\n",
              "              (\"'\", 6187),\n",
              "              ('g', 15755),\n",
              "              (';', 3628),\n",
              "              ('!', 2172),\n",
              "              ('j', 948),\n",
              "              ('-', 1897),\n",
              "              ('q', 840),\n",
              "              ('x', 641),\n",
              "              ('&', 3),\n",
              "              ('3', 27),\n",
              "              ('$', 1)]))"
            ]
          },
          "metadata": {
            "tags": []
          },
          "execution_count": 6
        }
      ]
    },
    {
      "cell_type": "code",
      "metadata": {
        "id": "cOvgb55oYIum"
      },
      "source": [
        "text_encoded = np.array(tokenizer.texts_to_sequences(text))\n",
        "text_encoded = text_encoded.reshape(-1)\n",
        "text_encoded -= 1"
      ],
      "execution_count": 7,
      "outputs": []
    },
    {
      "cell_type": "code",
      "metadata": {
        "id": "6HRtK0vJYIx8"
      },
      "source": [
        "window_size = 101\n",
        "buffer_size = 20000\n",
        "batch_size = 64\n",
        "\n",
        "\n",
        "train_size = 80*tokenizer.document_count // 100\n",
        "dataset_window = tf.data.Dataset.from_tensor_slices(text_encoded[:train_size])\n",
        "\n",
        "dataset_window = dataset_window.window(size=window_size, shift=1, drop_remainder=True)\n",
        "\n",
        "dataset_window = dataset_window.flat_map(lambda X : X.batch(window_size))\n",
        "dataset_window = dataset_window.shuffle(buffer_size=buffer_size).batch(batch_size)\n",
        "dataset_window = dataset_window.map(lambda X : (X[:, :-1], X[:, 1:]))\n",
        "dataset = dataset_window.map(lambda X, y : (tf.one_hot(X, n_characters), y))\n",
        "\n",
        "dataset = dataset.prefetch(tf.data.AUTOTUNE)"
      ],
      "execution_count": 8,
      "outputs": []
    },
    {
      "cell_type": "code",
      "metadata": {
        "colab": {
          "base_uri": "https://localhost:8080/"
        },
        "id": "PYZyQn5_YI1S",
        "outputId": "74d8ffed-d820-4301-8086-dd25e9348118"
      },
      "source": [
        "epochs = 6\n",
        "model = keras.Sequential([\n",
        "                          keras.layers.Bidirectional(keras.layers.GRU(128, dropout=0.2, batch_input_shape=[None, n_characters], return_sequences=True)),\n",
        "                          keras.layers.GRU(128, dropout=0.2, return_sequences=True),\n",
        "                          keras.layers.TimeDistributed(keras.layers.Dense(n_characters)),\n",
        "                          keras.layers.Activation(\"softmax\")\n",
        "])\n",
        "\n",
        "model.compile(optimizer=\"adam\", loss=\"sparse_categorical_crossentropy\")\n",
        "model.fit(dataset, epochs=epochs)"
      ],
      "execution_count": 20,
      "outputs": [
        {
          "output_type": "stream",
          "text": [
            "Epoch 1/6\n",
            "13941/13941 [==============================] - 329s 23ms/step - loss: 0.2021\n",
            "Epoch 2/6\n",
            "13941/13941 [==============================] - 314s 22ms/step - loss: 0.1441\n",
            "Epoch 3/6\n",
            "13941/13941 [==============================] - 315s 22ms/step - loss: 0.1352\n",
            "Epoch 4/6\n",
            "13941/13941 [==============================] - 317s 23ms/step - loss: 0.1307\n",
            "Epoch 5/6\n",
            "13941/13941 [==============================] - 316s 22ms/step - loss: 0.1279\n",
            "Epoch 6/6\n",
            "13941/13941 [==============================] - 316s 23ms/step - loss: 0.1258\n"
          ],
          "name": "stdout"
        },
        {
          "output_type": "execute_result",
          "data": {
            "text/plain": [
              "<tensorflow.python.keras.callbacks.History at 0x7fb9c7ef61d0>"
            ]
          },
          "metadata": {
            "tags": []
          },
          "execution_count": 20
        }
      ]
    },
    {
      "cell_type": "code",
      "metadata": {
        "colab": {
          "base_uri": "https://localhost:8080/"
        },
        "id": "veRU13SabeQ1",
        "outputId": "b080aa9c-5f54-411f-e8b0-220a7f1766be"
      },
      "source": [
        "from tensorflow.python.client import device_lib\n",
        "print(device_lib.list_local_devices())"
      ],
      "execution_count": 21,
      "outputs": [
        {
          "output_type": "stream",
          "text": [
            "[name: \"/device:CPU:0\"\n",
            "device_type: \"CPU\"\n",
            "memory_limit: 268435456\n",
            "locality {\n",
            "}\n",
            "incarnation: 11530320822699556523\n",
            ", name: \"/device:GPU:0\"\n",
            "device_type: \"GPU\"\n",
            "memory_limit: 14509932544\n",
            "locality {\n",
            "  bus_id: 1\n",
            "  links {\n",
            "  }\n",
            "}\n",
            "incarnation: 10995975812312643082\n",
            "physical_device_desc: \"device: 0, name: Tesla T4, pci bus id: 0000:00:04.0, compute capability: 7.5\"\n",
            "]\n"
          ],
          "name": "stdout"
        }
      ]
    },
    {
      "cell_type": "code",
      "metadata": {
        "colab": {
          "base_uri": "https://localhost:8080/"
        },
        "id": "SQw5IBTCYI8L",
        "outputId": "70128a87-50ec-4acd-c6e4-6c36ccd8e7c0"
      },
      "source": [
        "def preprocess(input):\n",
        "  return tf.one_hot(np.array(tokenizer.texts_to_sequences(input))-1, n_characters)\n",
        "\n",
        "def next_character(input, t=1):\n",
        "  preprocessing_text = preprocess([input])\n",
        "  X_new = model.predict(preprocessing_text)\n",
        "  X_new = X_new[0, -1:, :]\n",
        "  prob = tf.math.log(X_new) / t\n",
        "  character = tf.random.categorical(prob, num_samples=1)+1\n",
        "  return tokenizer.sequences_to_texts(character.numpy())[0]\n",
        "\n",
        "string = \"Hello, my na\"\n",
        "string += next_character(string, t=1)\n",
        "string += next_character(string, t=1)\n",
        "print(string)"
      ],
      "execution_count": 25,
      "outputs": [
        {
          "output_type": "stream",
          "text": [
            "Hello, my name\n"
          ],
          "name": "stdout"
        }
      ]
    },
    {
      "cell_type": "code",
      "metadata": {
        "colab": {
          "base_uri": "https://localhost:8080/"
        },
        "id": "ADtRqGFNYI_a",
        "outputId": "6c821fb8-8f1f-474a-b3d3-0d46ccefc570"
      },
      "source": [
        "def generate_text(n_characters = 100, text = \"a\", t = 1):\n",
        "  for _ in range(n_characters):\n",
        "    text += next_character(text, t=t)\n",
        "  return text\n",
        "\n",
        "\n",
        "print(generate_text(n_characters = 100, text = \"A\", t = 1))"
      ],
      "execution_count": 30,
      "outputs": [
        {
          "output_type": "stream",
          "text": [
            "Adouble\n",
            "desired boght more, good most he with the mistress;\n",
            "from any grant buck, may mine?\n",
            "\n",
            "pooines:\n",
            "\n"
          ],
          "name": "stdout"
        }
      ]
    },
    {
      "cell_type": "markdown",
      "metadata": {
        "id": "I4dwjd4Qclvm"
      },
      "source": [
        "Better than the stateful and stateless GRU model, isn't it?"
      ]
    }
  ]
}