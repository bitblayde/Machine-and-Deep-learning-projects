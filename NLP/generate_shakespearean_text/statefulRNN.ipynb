{
  "nbformat": 4,
  "nbformat_minor": 0,
  "metadata": {
    "colab": {
      "name": "Untitled34.ipynb",
      "provenance": [],
      "collapsed_sections": [],
      "authorship_tag": "ABX9TyP2hSgw6nRboKfEt/cEHjDx",
      "include_colab_link": true
    },
    "kernelspec": {
      "name": "python3",
      "display_name": "Python 3"
    },
    "language_info": {
      "name": "python"
    }
  },
  "cells": [
    {
      "cell_type": "markdown",
      "metadata": {
        "id": "view-in-github",
        "colab_type": "text"
      },
      "source": [
        "<a href=\"https://colab.research.google.com/github/bitblayde/Machine-and-Deep-learning-projects/blob/main/NLP/generate_shakespearean_text/statefulRNN.ipynb\" target=\"_parent\"><img src=\"https://colab.research.google.com/assets/colab-badge.svg\" alt=\"Open In Colab\"/></a>"
      ]
    },
    {
      "cell_type": "markdown",
      "metadata": {
        "id": "hD5LE9Xsoxsg"
      },
      "source": [
        "I've used as a reference Hands-On ML book from Aurélien Géron."
      ]
    },
    {
      "cell_type": "code",
      "metadata": {
        "colab": {
          "base_uri": "https://localhost:8080/"
        },
        "id": "YcenoBW3V6Sn",
        "outputId": "df9efd17-9b93-4d68-81f5-c9227363068a"
      },
      "source": [
        "import numpy as np\n",
        "import os\n",
        "import sklearn\n",
        "import tensorflow as tf\n",
        "from tensorflow import keras\n",
        "\n",
        "url = \"https://raw.githubusercontent.com/karpathy/char-rnn/master/data/tinyshakespeare/input.txt\"\n",
        "\n",
        "file = keras.utils.get_file(\"shakespeare.txt\", url)\n",
        "\n",
        "with open(file) as f:\n",
        "  text = f.read()"
      ],
      "execution_count": 4,
      "outputs": [
        {
          "output_type": "stream",
          "text": [
            "Downloading data from https://raw.githubusercontent.com/karpathy/char-rnn/master/data/tinyshakespeare/input.txt\n",
            "1122304/1115394 [==============================] - 0s 0us/step\n"
          ],
          "name": "stdout"
        }
      ]
    },
    {
      "cell_type": "code",
      "metadata": {
        "id": "o_QkceBTV_Mh"
      },
      "source": [
        "tokenizer = keras.preprocessing.text.Tokenizer(char_level=True)\n",
        "tokenizer.fit_on_texts(text)"
      ],
      "execution_count": 5,
      "outputs": []
    },
    {
      "cell_type": "code",
      "metadata": {
        "colab": {
          "base_uri": "https://localhost:8080/"
        },
        "id": "GS679mJpV_hF",
        "outputId": "a28a9a78-3ae2-44dd-ea96-5bb819cead9a"
      },
      "source": [
        "tokenizer.texts_to_sequences([\"Hello\"])"
      ],
      "execution_count": 6,
      "outputs": [
        {
          "output_type": "execute_result",
          "data": {
            "text/plain": [
              "[[7, 2, 12, 12, 4]]"
            ]
          },
          "metadata": {
            "tags": []
          },
          "execution_count": 6
        }
      ]
    },
    {
      "cell_type": "code",
      "metadata": {
        "colab": {
          "base_uri": "https://localhost:8080/",
          "height": 37
        },
        "id": "Bu4rUAkJV_mL",
        "outputId": "9a190316-45df-4ed5-ce4c-9da0a072c895"
      },
      "source": [
        "''.join(tokenizer.sequences_to_texts([[7, 2, 12, 12, 4]]))"
      ],
      "execution_count": 7,
      "outputs": [
        {
          "output_type": "execute_result",
          "data": {
            "application/vnd.google.colaboratory.intrinsic+json": {
              "type": "string"
            },
            "text/plain": [
              "'h e l l o'"
            ]
          },
          "metadata": {
            "tags": []
          },
          "execution_count": 7
        }
      ]
    },
    {
      "cell_type": "code",
      "metadata": {
        "colab": {
          "base_uri": "https://localhost:8080/"
        },
        "id": "aLW-PAHsV_rb",
        "outputId": "76d1cd4b-1119-440b-ab28-ce36120ad79d"
      },
      "source": [
        "n_characters = len(tokenizer.word_counts)\n",
        "n_characters, tokenizer.word_counts"
      ],
      "execution_count": 8,
      "outputs": [
        {
          "output_type": "execute_result",
          "data": {
            "text/plain": [
              "(39,\n",
              " OrderedDict([('f', 17567),\n",
              "              ('i', 57369),\n",
              "              ('r', 53758),\n",
              "              ('s', 54219),\n",
              "              ('t', 74024),\n",
              "              (' ', 169892),\n",
              "              ('c', 19443),\n",
              "              ('z', 554),\n",
              "              ('e', 100652),\n",
              "              ('n', 53608),\n",
              "              (':', 10316),\n",
              "              ('\\n', 40000),\n",
              "              ('b', 14082),\n",
              "              ('o', 71279),\n",
              "              ('w', 21115),\n",
              "              ('p', 12449),\n",
              "              ('d', 33447),\n",
              "              ('a', 63326),\n",
              "              ('y', 22166),\n",
              "              ('u', 29897),\n",
              "              ('h', 54378),\n",
              "              (',', 19846),\n",
              "              ('m', 25083),\n",
              "              ('k', 8672),\n",
              "              ('.', 7885),\n",
              "              ('l', 37215),\n",
              "              ('v', 8591),\n",
              "              ('?', 2462),\n",
              "              (\"'\", 6187),\n",
              "              ('g', 15755),\n",
              "              (';', 3628),\n",
              "              ('!', 2172),\n",
              "              ('j', 948),\n",
              "              ('-', 1897),\n",
              "              ('q', 840),\n",
              "              ('x', 641),\n",
              "              ('&', 3),\n",
              "              ('3', 27),\n",
              "              ('$', 1)]))"
            ]
          },
          "metadata": {
            "tags": []
          },
          "execution_count": 8
        }
      ]
    },
    {
      "cell_type": "code",
      "metadata": {
        "id": "JxvHJeZtV_v1"
      },
      "source": [
        "text_encoded = np.array(tokenizer.texts_to_sequences(text))\n",
        "text_encoded = text_encoded.reshape(-1)"
      ],
      "execution_count": 23,
      "outputs": []
    },
    {
      "cell_type": "code",
      "metadata": {
        "id": "MQcbnjB4V_5B"
      },
      "source": [
        "text_encoded -= 1"
      ],
      "execution_count": 24,
      "outputs": []
    },
    {
      "cell_type": "code",
      "metadata": {
        "id": "Iyx-dm4iV_-K"
      },
      "source": [
        "window_size = 101\n",
        "buffer_size = 20000\n",
        "batch_size = 64\n",
        "\n",
        "\n",
        "full_dataset = []\n",
        "train_size = 80*tokenizer.document_count // 100\n",
        "split_dataset = np.array_split(text_encoded[:train_size], batch_size)\n",
        "\n",
        "for current_dataset in split_dataset:\n",
        "  dataset_window = tf.data.Dataset.from_tensor_slices(current_dataset)\n",
        "  dataset_window = dataset_window.window(window_size, shift=window_size-1, drop_remainder=True)\n",
        "  dataset_window = dataset_window.flat_map(lambda X : X.batch(window_size))\n",
        "  full_dataset.append(dataset_window)\n",
        "  \n",
        "dataset = tf.data.Dataset.zip(tuple(full_dataset)).map(lambda *w : tf.stack(w))\n",
        "\n",
        "dataset = dataset.map(lambda X : (X[:, :-1], X[:, 1:]))\n",
        "dataset = dataset.map(lambda X, y : (tf.one_hot(X, n_characters), y))\n",
        "\n",
        "dataset = dataset.prefetch(tf.data.AUTOTUNE)"
      ],
      "execution_count": 31,
      "outputs": []
    },
    {
      "cell_type": "code",
      "metadata": {
        "id": "TtUrrxpwj_nv"
      },
      "source": [
        "class ResetStates(keras.callbacks.Callback):\n",
        "  def on_epoch_begin(self, epoch, logs):\n",
        "    self.model.reset_states()"
      ],
      "execution_count": 37,
      "outputs": []
    },
    {
      "cell_type": "code",
      "metadata": {
        "colab": {
          "base_uri": "https://localhost:8080/"
        },
        "id": "yZ5lLuBiWAHQ",
        "outputId": "ec7e0d83-afb7-411e-c5f0-e5c74ac17e77"
      },
      "source": [
        "epochs = 8\n",
        "model = keras.Sequential([\n",
        "                          keras.layers.GRU(128, dropout=0.2, batch_input_shape=[batch_size, None, n_characters], return_sequences=True, stateful=True),\n",
        "                          keras.layers.GRU(256, dropout=0.2, return_sequences=True, stateful=True),\n",
        "                          keras.layers.TimeDistributed(keras.layers.Dense(n_characters)),\n",
        "                          keras.layers.Activation(\"softmax\")\n",
        "])\n",
        "\n",
        "model.compile(optimizer=\"adam\", loss=\"sparse_categorical_crossentropy\")\n",
        "model.fit(dataset, epochs=epochs, callbacks=[ResetStates()])"
      ],
      "execution_count": 39,
      "outputs": [
        {
          "output_type": "stream",
          "text": [
            "Epoch 1/8\n",
            "139/139 [==============================] - 108s 518ms/step - loss: 2.7878\n",
            "Epoch 2/8\n",
            "139/139 [==============================] - 72s 519ms/step - loss: 2.3784\n",
            "Epoch 3/8\n",
            "139/139 [==============================] - 72s 517ms/step - loss: 2.2287\n",
            "Epoch 4/8\n",
            "139/139 [==============================] - 73s 525ms/step - loss: 2.1187\n",
            "Epoch 5/8\n",
            "139/139 [==============================] - 73s 521ms/step - loss: 2.0343\n",
            "Epoch 6/8\n",
            "139/139 [==============================] - 72s 520ms/step - loss: 1.9737\n",
            "Epoch 7/8\n",
            "139/139 [==============================] - 73s 523ms/step - loss: 1.9270\n",
            "Epoch 8/8\n",
            "139/139 [==============================] - 73s 526ms/step - loss: 1.8930\n"
          ],
          "name": "stdout"
        },
        {
          "output_type": "execute_result",
          "data": {
            "text/plain": [
              "<tensorflow.python.keras.callbacks.History at 0x7ff34cd8c650>"
            ]
          },
          "metadata": {
            "tags": []
          },
          "execution_count": 39
        }
      ]
    },
    {
      "cell_type": "markdown",
      "metadata": {
        "id": "nWCPqarVnYEp"
      },
      "source": [
        "In order to avoid the limitation of the input text dimension since it has to be equal to batch dim, we could create a stateless network and put it the current weights."
      ]
    },
    {
      "cell_type": "code",
      "metadata": {
        "id": "XV_wyT2SWAMV"
      },
      "source": [
        "stateless_model = keras.Sequential([\n",
        "                          keras.layers.GRU(128, dropout=0.2, batch_input_shape=[None, None, n_characters], return_sequences=True),\n",
        "                          keras.layers.GRU(256, dropout=0.2, return_sequences=True),\n",
        "                          keras.layers.TimeDistributed(keras.layers.Dense(n_characters)),\n",
        "                          keras.layers.Activation(\"softmax\")\n",
        "])\n",
        "\n",
        "stateless_model.build([None, None, n_characters])\n",
        "stateless_model.set_weights(model.get_weights())"
      ],
      "execution_count": 43,
      "outputs": []
    },
    {
      "cell_type": "code",
      "metadata": {
        "colab": {
          "base_uri": "https://localhost:8080/"
        },
        "id": "2tDM4pddnxJ4",
        "outputId": "455270e1-1457-419b-c9fd-31d33fe402e6"
      },
      "source": [
        "def preprocess(input):\n",
        "  return tf.one_hot(np.array(tokenizer.texts_to_sequences(input))-1, n_characters)\n",
        "\n",
        "def next_character(model, input, t=1):\n",
        "  preprocessing_text = preprocess([input])\n",
        "  X_new = model.predict(preprocessing_text)\n",
        "  X_new = X_new[0, -1:, :]\n",
        "  prob = tf.math.log(X_new) / t\n",
        "  character = tf.random.categorical(prob, num_samples=1)+1\n",
        "  return tokenizer.sequences_to_texts(character.numpy())[0]\n",
        "\n",
        "string = \"My na\"\n",
        "string += next_character(stateless_model, string)\n",
        "string += next_character(stateless_model, string)\n",
        "print(string)"
      ],
      "execution_count": 49,
      "outputs": [
        {
          "output_type": "stream",
          "text": [
            "My name\n"
          ],
          "name": "stdout"
        }
      ]
    },
    {
      "cell_type": "code",
      "metadata": {
        "colab": {
          "base_uri": "https://localhost:8080/"
        },
        "id": "9F0pHmyFnxge",
        "outputId": "3a15df7d-f315-450f-e015-6ebe19955164"
      },
      "source": [
        "def generate_text(model, n_characters = 100, text = \"a\", t = 1):\n",
        "  for _ in range(n_characters):\n",
        "    text += next_character(model, text, t=t)\n",
        "  return text\n",
        "\n",
        "\n",
        "print(generate_text(stateless_model, n_characters = 100, text = \"A\", t = 1))"
      ],
      "execution_count": 50,
      "outputs": [
        {
          "output_type": "stream",
          "text": [
            "Am less,'ed's batier.\n",
            "for that pas ne's, are spyerm'd that eeem arm'd out stay\n",
            "do masting un his whoc\n"
          ],
          "name": "stdout"
        }
      ]
    }
  ]
}